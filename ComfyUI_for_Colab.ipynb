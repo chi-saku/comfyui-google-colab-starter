# ================================================================
#  ComfyUI for Paperspace - The True & Proven Final Edition (Fixed)
# ================================================================
import os
import sys
import subprocess
from pathlib import Path

# -------------------------
# 基本パスの定義
# -------------------------
COMFY_DIR = Path('/notebooks/ComfyUI')
MGR_DIR = COMFY_DIR / 'custom_nodes' / 'ComfyUI-Manager'
CHECKPOINT_DIR = COMFY_DIR / 'models' / 'checkpoints'
CHECKPOINT_DIR.mkdir(parents=True, exist_ok=True)

# -------------------------
# 既に作られてしまった誤ディレクトリの掃除（任意）
# 例：'{COMFY_DIR}' のような名前のフォルダがあると混乱の元
# -------------------------
for wrong in [
    Path('{COMFY_DIR}'),
    Path('{MGR_DIR}'),
    Path('/notebooks/{COMFY_DIR}'),
]:
    if wrong.exists():
        print(f'Cleaning wrong path: {wrong}')
        subprocess.run(['rm', '-rf', str(wrong)], check=False)

# Step-1： 環境の準備
print("■ Step-1: 環境の準備をしています...")
subprocess.run(['apt-get', '-yqq', 'update'], check=False)
subprocess.run(['apt-get', '-yqq', 'install', 'git', 'wget', 'build-essential', 'cmake', 'libgl1', 'libglib2.0-0'], check=False)

# Step-2： ComfyUIとManagerのインストール/更新
print("\n■ Step-2: ComfyUIとManagerをインストール/更新しています...")
if not COMFY_DIR.exists():
    subprocess.run(f'git clone https://github.com/comfyanonymous/ComfyUI.git "{COMFY_DIR}"', shell=True, check=True)
else:
    subprocess.run(f'cd "{COMFY_DIR}" && git pull', shell=True, check=False)

if not MGR_DIR.is_dir():
    subprocess.run(f'git clone https://github.com/ltdrdata/ComfyUI-Manager.git "{MGR_DIR}"', shell=True, check=True)

# Step-3： 必要なライブラリのインストール
print("\n■ Step-3: 必要なライブラリをインストールしています...")
subprocess.run([sys.executable, '-m', 'pip', '-q', 'install', '--upgrade', 'pip', 'wheel', 'setuptools', 'gdown'], check=False)
subprocess.run([sys.executable, '-m', 'pip', '-q', 'install', '--upgrade', 'numpy', 'scipy', 'Pillow', 'toml'], check=False)
subprocess.run([sys.executable, '-m', 'pip', '-q', 'install', '-r', str(COMFY_DIR / 'requirements.txt'), '--prefer-binary'], check=False)
# Manager 側の要件（入っていればスキップされます） 
mgr_req = MGR_DIR / 'requirements.txt'
if mgr_req.exists():
    subprocess.run([sys.executable, '-m', 'pip', '-q', 'install', '-r', str(mgr_req)], check=False)

# xformers は PyTorch のバージョンに合わせる
try:
    import torch
    torch_ver = torch.__version__.split('+')[0]
    mm = '.'.join(torch_ver.split('.')[:2])  # 例: '2.1', '2.3'
    xformers_map = {
        '2.0': '0.0.20',
        '2.1': '0.0.22.post7',
        '2.2': '0.0.25',
        '2.3': '0.0.27',
        '2.4': '0.0.28.post1',
    }
    xver = xformers_map.get(mm, '0.0.28.post1')
    print(f"\n■ Step-3b: xformers を PyTorch {torch_ver} に合わせてインストールしています -> xformers=={xver}")
    subprocess.run([sys.executable, '-m', 'pip', '-q', 'install', f'xformers=={xver}'], check=False)
except Exception as e:
    print("xformers の自動整合に失敗しました（スキップ）。", e)

# Step-4： 基本モデルのダウンロード（任意・TOSが必要な場合はスキップ）
print("\n■ Step-4: 基本モデルのダウンロード（任意）")
model_file = CHECKPOINT_DIR / 'sd15_v1.5.safetensors'
HF_TOKEN = os.environ.get('HUGGINGFACE_TOKEN', '').strip()  # 環境変数にトークンを入れておくと自動で使います
HF_URL = 'https://huggingface.co/runwayml/stable-diffusion-v1-5/resolve/main/v1-5-pruned-emaonly.safetensors'

if not model_file.exists():
    print("Stable Diffusion 1.5 は利用規約同意が必要なため、未ログインだと 403 になることがあります。")
    if HF_TOKEN:
        print("HuggingFace トークンが見つかりました。認証付きでダウンロードを試みます。")
        # 認証ヘッダを付けて wget
        cmd = f'wget -q -O "{model_file}" --header="Authorization: Bearer {HF_TOKEN}" "{HF_URL}"'
        ret = subprocess.run(cmd, shell=True)
        if ret.returncode != 0:
            print("認証付きダウンロードに失敗しました。手動でモデルを配置するか、別の公開モデルURLをご利用ください。")
    else:
        print("トークンが無い場合はスキップされます。後で手動でチェックポイントを配置してください。")
else:
    print("モデルは既に存在します。")

# Step-5: Googleドライブからのモデル追加（オプション）
print("\n■ Step-5: Googleドライブからのモデル追加（オプション）")
gdrive_url = "ここにGoogleドライブの共有リンクを貼り付けてください"  # 共有リンクを貼る
output_filename = "my_model.safetensors"
if "drive.google.com" in gdrive_url and "共有リンク" not in gdrive_url:
    # --fuzzy を付けると様々な形式の共有リンクを自動解釈してくれます
    subprocess.run([sys.executable, '-m', 'gdown', '--fuzzy', gdrive_url, '-O', str(CHECKPOINT_DIR / output_filename)], check=False)
else:
    print("Google Drive からダウンロードする場合は、実際の共有リンクに差し替えてください。")

# Step-6： ComfyUIの起動
print("\n✅ 準備完了！これから ComfyUI を起動します（ポート: 8123）...")
# Paperspace のポートフォワードでアクセスする想定
subprocess.run(f'cd "{COMFY_DIR}" && python main.py --listen --port 8123', shell=True, check=False)
