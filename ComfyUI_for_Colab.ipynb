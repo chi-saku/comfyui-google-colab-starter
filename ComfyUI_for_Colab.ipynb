{
 "cells": [
  {
   "cell_type": "markdown",
   "metadata": {},
   "source": [
    "# Google Colab用 ComfyUI 起動ノートブック（ワンセル・最終安全版）\n",
    "\n",
    "**特徴：**\n",
    "- **ワンセル（1つのセル）**で、すべてのセットアップが完了します。\n",
    "- Googleドライブと連携し、モデルや生成画像を永続的に保存できます。\n",
    "- エラーが起きにくい、安定した構成になっています。\n",
    "\n",
    "**使い方：**\n",
    "1. 最初に表示されるポップアップで、**Googleドライブへのアクセスを許可**してください。\n",
    "2. 下のコードセル（1つだけです）の左側にある、**実行ボタン（▷）**をクリックしてください。\n",
    "3. 初回は10〜15分ほどかかります。じっくりお待ちください。\n",
    "4. ログの最後に表示される、**`...loca.lt`** というURLをクリックして、ComfyUIにアクセスしてください。"
   ]
  },
  {
   "cell_type": "code",
   "execution_count": null,
   "metadata": {
    "colab": {
     "mount_file_id": "1-xxxxxxxxxxxxxxxxxxxxxxxxxxxxxxx"
    }
   },
   "outputs": [],
   "source": [
    "# ================================================================\n",
    "#  ComfyUI for Google Colab – Final Safe Edition\n",
    "# ================================================================\n",
    "from google.colab import drive\n",
    "import os, subprocess, sys, re, requests\n",
    "\n",
    "# 1) Googleドライブをマウント ---------------------------------------------\n",
    "print(\"■ Step-1: Googleドライブをマウントします...\")\n",
    "drive.mount('/content/drive')\n",
    "\n",
    "# 2) ComfyUI本体とManagerをGoogleドライブにインストール ----------------\n",
    "print(\"\\n■ Step-2: ComfyUI本体とManagerをインストールします...\")\n",
    "COMFY_DIR = '/content/drive/MyDrive/ComfyUI'\n",
    "if not os.path.isdir(COMFY_DIR):\n",
    "    get_ipython().system('git clone --depth 1 https://github.com/comfyanonymous/ComfyUI.git {COMFY_DIR}')\n",
    "else:\n",
    "    get_ipython().system('cd {COMFY_DIR} && git pull')\n",
    "\n",
    "MGR_DIR = f\"{COMFY_DIR}/custom_nodes/ComfyUI-Manager\"\n",
    "if not os.path.isdir(MGR_DIR):\n",
    "    get_ipython().system('git clone --depth 1 https://github.com/ltdrdata/ComfyUI-Manager.git {MGR}')\n",
    "\n",
    "# 3) Python依存ライブラリのインストール --------------------------------\n",
    "print(\"\\n■ Step-3: 必要なライブラリをインストールします...\")\n",
    "get_ipython().system('pip -q install --upgrade pip wheel setuptools')\n",
    "get_ipython().system('pip -q install torch==2.1.2 torchvision==0.16.1 torchaudio==2.1.2 --index-url https://download.pytorch.org/whl/cu118')\n",
    "get_ipython().system('pip -q install xformers==0.0.23.post1 triton==2.1.0 numpy Pillow toml')\n",
    "get_ipython().system('pip -q install -r {COMFY_DIR}/requirements.txt')\n",
    "\n",
    "# 4) Base Model (SD-1.5) をGoogleドライブにダウンロード -----------------\n",
    "print(\"\\n■ Step-4: 基本モデル（SD-1.5）をダウンロードします...\")\n",
    "MODEL_DST = f\"{COMFY_DIR}/models/checkpoints\"\n",
    "os.makedirs(MODEL_DST, exist_ok=True)\n",
    "model_file = f\"{MODEL_DST}/v1-5-pruned-emaonly.safetensors\"\n",
    "if not os.path.exists(model_file):\n",
    "    get_ipython().system('wget -q --show-progress -O {model_file} https://huggingface.co/runwayml/stable-diffusion-v1-5/resolve/main/v1-5-pruned-emaonly.safetensors')\n",
    "\n",
    "# 5) 起動とトンネル作成 -----------------------------------------------------\n",
    "print(\"\\n✅  準備完了！ これから ComfyUI を起動します。\")\n",
    "print(\"   1) このセルの実行が終わり、URLが表示されるまでお待ちください。\")\n",
    "print(\"   2) 表示された `...loca.lt` というURLをクリックしてください。\")\n",
    "\n",
    "get_ipython().system('npm install -g localtunnel')\n",
    "\n",
    "def run_comfyui():\n",
    "    command = f\"cd {COMFY_DIR} && python main.py --listen=127.0.0.1 --port=8123\"\n",
    "    subprocess.run(command, shell=True)\n",
    "\n",
    "thread = threading.Thread(target=run_comfyui)\n",
    "thread.start()\n",
    "time.sleep(15)\n",
    "\n",
    "get_ipython().system('lt --port 8123')"
   ]
  }
 ],
 "metadata": {
  "colab": {
   "provenance": []
  },
  "kernelspec": {
   "display_name": "Python 3",
   "name": "python3"
  },
  "language_info": {
   "name": "python"
  }
 },
 "nbformat": 4,
 "nbformat_minor": 0
}
