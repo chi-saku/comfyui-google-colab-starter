{
 "cells": [
  {
   "cell_type": "markdown",
   "metadata": {},
   "source": [
    "# Paperspace用 ComfyUI 起動ノートブック（講座配布版）\n",
    "\n",
    "**使い方：**\n",
    "1. このノートブックを開いたら、上のメニューから `実行` → `すべてのセルを実行` をクリックしてください。\n",
    "2. すべての処理が自動で進みます。\n",
    "3. 最後のセルの実行が終わると、ComfyUIのURLが表示されます。それをクリックしてアクセスしてください。\n",
    "\n",
    "**注意点：**\n",
    "- GPU付きのマシン（例: Free-GPU, A4000など）を選んでください。\n",
    "- 初回起動時はインストールに5〜10分ほどかかります。"
   ]
  },
  {
   "cell_type": "code",
   "execution_count": null,
   "metadata": {},
   "outputs": [],
   "source": [
    "# ステップ1：必要なツールをインストールして、ComfyUIをダウンロードします\n",
    "\n",
    "!apt-get update -y\n",
    "!apt-get install -y git wget\n",
    "\n",
    "import os\n",
    "\n",
    "COMFYUI_DIR = '/notebooks/ComfyUI'\n",
    "\n",
    "if not os.path.exists(COMFYUI_DIR):\n",
    "    print(f\"ComfyUIが見つからないので、ダウンロードします...\")\n",
    "    # ComfyUI 本体をダウンロード\n",
    "    !git clone https://github.com/comfyanonymous/ComfyUI.git {COMFYUI_DIR}\n",
    "    print(\"ダウンロードが完了しました。\")\n",
    "else:\n",
    "    print(f\"ComfyUIは既に存在します。最新版に更新します...\")\n",
    "    # もし既に存在する場合は、最新の状態に更新\n",
    "    !cd {COMFYUI_DIR} && git pull\n",
    "    print(\"更新が完了しました。\")"
   ]
  },
  {
   "cell_type": "code",
   "execution_count": null,
   "metadata": {},
   "outputs": [],
   "source": [
    "# ステップ2：必要なライブラリ（PyTorchなど）をインストールします\n",
    "# この処理は少し時間がかかります\n",
    "\n",
    "print(\"必要なライブラリをインストールします...\")\n",
    "!pip install torch torchvision torchaudio --index-url https://download.pytorch.org/whl/cu121\n",
    "!pip install -r {COMFYUI_DIR}/requirements.txt\n",
    "print(\"インストールが完了しました！\")"
   ]
  },
  {
   "cell_type": "code",
   "execution_count": null,
   "metadata": {},
   "outputs": [],
   "source": [
    "# ステップ3：ComfyUIを起動します！\n",
    "\n",
    "print(\"ComfyUIを起動しています...\")\n",
    "print(\"下のログにURLが表示されたら、それをクリックしてください。\")\n",
    "\n",
    "# --listen オプションで外部からアクセスできるようにします\n",
    "!python {COMFYUI_DIR}/main.py --listen"
   ]
  }
 ],
 "metadata": {
  "kernelspec": {
   "display_name": "Python 3",
   "language": "python",
   "name": "python3"
  },
  "language_info": {
   "codemirror_mode": {
    "name": "ipython",
    "version": 3
   },
   "file_extension": ".py",
   "mimetype": "text/x-python",
   "name": "python",
   "nbconvert_exporter": "python",
   "pygments_lexer": "ipython3",
   "version": "3.10.6"
  }
 },
 "nbformat": 4,
 "nbformat_minor": 4
}