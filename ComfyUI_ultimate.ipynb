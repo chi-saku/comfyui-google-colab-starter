{
 "cells": [
  {
   "cell_type": "markdown",
   "metadata": {},
   "source": [
    "# Paperspace用 ComfyUI 起動ノートブック（最終・全部入り版）\n",
    "\n",
    "**特徴：**\n",
    "- 必要なツールやライブラリを全て自動でインストール\n",
    "- 必須拡張機能「ComfyUI-Manager」も自動でインストール\n",
    "- 基本モデルを自動でダウンロードするので、すぐに画像生成を試せます\n",
    "- **あなたのGoogleドライブから、好きなモデルを追加することもできます！**\n",
    "\n",
    "**使い方：**\n",
    "1. 上のメニューから `実行` → `すべてのセルを実行` をクリックしてください。\n",
    "2. 初回は15分以上かかります。じっくりお待ちください。\n",
    "3. 最後のセルでComfyUIが起動します。"
   ]
  },
  {
   "cell_type": "code",
   "execution_count": null,
   "metadata": {},
   "outputs": [],
   "source": [
    "# Step-1： 環境の準備（ビルドツール等のインストール）\n",
    "!apt-get update -y\n",
    "!apt-get install -y git wget build-essential cmake libgl1 libglib2.0-0"
   ]
  },
  {
   "cell_type": "code",
   "execution_count": null,
   "metadata": {},
   "outputs": [],
   "source": [
    "# Step-2： ComfyUI本体と拡張機能（Manager）のインストール\n",
    "import os\n",
    "COMFYUI_DIR = '/notebooks/ComfyUI'\n",
    "if not os.path.exists(COMFYUI_DIR):\n",
    "    !git clone --depth 1 https://github.com/comfyanonymous/ComfyUI.git {COMFYUI_DIR}\n",
    "else:\n",
    "    !cd {COMFYUI_DIR} && git pull\n",
    "\n",
    "MANAGER_DIR = os.path.join(COMFYUI_DIR, 'custom_nodes', 'ComfyUI-Manager')\n",
    "if not os.path.exists(MANAGER_DIR):\n",
    "    !git clone https://github.com/ltdrdata/ComfyUI-Manager.git {MANAGER_DIR}"
   ]
  },
  {
   "cell_type": "code",
   "execution_count": null,
   "metadata": {},
   "outputs": [],
   "source": [
    "# Step-3： PyTorchと依存ライブラリのインストール（安定版）\n",
    "import subprocess\n",
    "cuda_available = subprocess.run(['nvidia-smi', '-L'], capture_output=True).stdout.decode('utf-8')\n",
    "if cuda_available:\n",
    "    !pip install torch torchvision torchaudio --index-url https://download.pytorch.org/whl/cu118\n",
    "else:\n",
    "    !pip install torch torchvision torchaudio --index-url https://download.pytorch.org/whl/cpu\n",
    "!pip install --upgrade pip wheel setuptools gdown # gdownを追加\n",
    "!pip install -r {COMFYUI_DIR}/requirements.txt --prefer-binary\n",
    "if cuda_available:\n",
    "    !pip install xformers==0.0.23.post1 --extra-index-url https://download.pytorch.org/whl/cu118"
   ]
  },
  {
   "cell_type": "code",
   "execution_count": null,
   "metadata":