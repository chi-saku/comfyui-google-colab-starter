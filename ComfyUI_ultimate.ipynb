{
 "cells": [
  {
   "cell_type": "markdown",
   "metadata": {},
   "source": [
    "# Paperspace用 ComfyUI 起動ノートブック（最終・全部入り版）\n",
    "\n",
    "**特徴：**\n",
    "- 必要なツールやライブラリを全て自動でインストール\n",
    "- 必須拡張機能「ComfyUI-Manager」も自動でインストール\n",
    "- 基本モデルを自動でダウンロードするので、すぐに画像生成を試せます\n",
    "- **あなたのGoogleドライブから、好きなモデルを追加することもできます！**\n",
    "\n",
    "**使い方：**\n",
    "1. 上のメニューから `実行` → `すべてのセルを実行` をクリックしてください。\n",
    "2. 初回は15分以上かかります。じっくりお待ちください。\n",
    "3. 最後のセルでComfyUIが起動します。"
   ]
  },
  {
   "cell_type": "code",
   "execution_count": null,
   "metadata": {},
   "outputs": [],
   "source": [
    "# Step-1： 環境の準備（ビルドツール等のインストール）\n",
    "!apt-get update -y\n",
    "!apt-get install -y git wget build-essential cmake libgl1 libglib2.0-0"
   ]
  },
  {
   "cell_type": "code",
   "execution_count": null,
   "metadata": {},
   "outputs": [],
   "source": [
    "# Step-2： ComfyUI本体と拡張機能（Manager）のインストール\n",
    "import os\n",
    "COMFYUI_DIR = '/notebooks/ComfyUI'\n",
    "if not os.path.exists(COMFYUI_DIR):\n",
    "    !git clone --depth 1 https://github.com/comfyanonymous/ComfyUI.git {COMFYUI_DIR}\n",
    "else:\n",
    "    !cd {COMFYUI_DIR} && git pull\n",
    "\n",
    "MANAGER_DIR = os.path.join(COMFYUI_DIR, 'custom_nodes', 'ComfyUI-Manager')\n",
    "if not os.path.exists(MANAGER_DIR):\n",
    "    !git clone https://github.com/ltdrdata/ComfyUI-Manager.git {MANAGER_DIR}"
   ]
  },
  {
   "cell_type": "code",
   "execution_count": null,
   "metadata": {},
   "outputs": [],
   "source": [
    "# Step-3： PyTorchと依存ライブラリのインストール（安定版）\n",
    "import subprocess\n",
    "cuda_available = subprocess.run(['nvidia-smi', '-L'], capture_output=True).stdout.decode('utf-8')\n",
    "if cuda_available:\n",
    "    !pip install torch torchvision torchaudio --index-url https://download.pytorch.org/whl/cu118\n",
    "else:\n",
    "    !pip install torch torchvision torchaudio --index-url https://download.pytorch.org/whl/cpu\n",
    "!pip install --upgrade pip wheel setuptools gdown\n",
    "!pip install -r {COMFYUI_DIR}/requirements.txt --prefer-binary\n",
    "if cuda_available:\n",
    "    !pip install xformers==0.0.23.post1 --extra-index-url https://download.pytorch.org/whl/cu118"
   ]
  },
  {
   "cell_type": "code",
   "execution_count": null,
   "metadata": {},
   "outputs": [],
   "source": [
    "# Step-4： 基本モデルの自動ダウンロード（とりあえず動かしたい人向け）\n",
    "TARGET_DIR=f\"{COMFYUI_DIR}/models/checkpoints\"\n",
    "os.makedirs(TARGET_DIR, exist_ok=True)\n",
    "MODEL_URL=\"https://huggingface.co/runwayml/stable-diffusion-v1-5/resolve/main/v1-5-pruned-emaonly.safetensors\"\n",
    "!wget -nc -O {TARGET_DIR}/sd15_v1.5.safetensors {MODEL_URL}"
   ]
  },
  {
   "cell_type": "markdown",
   "metadata": {},
   "source": [
    "### 【オプション】Step-5： あなたのモデルをGoogleドライブから追加\n",
    "自分の好きなモデルを使いたい場合は、下のセルを実行してください。\n",
    "1. Googleドライブで使いたいモデルファイルを右クリック → `共有` → `リンクをコピー`\n",
    "2. 下の `gdrive_url = \"...\"` の中に、コピーしたリンクを貼り付けます。\n",
    "3. ファイル名も好きな名前に変更できます（拡張子は `.safetensors` や `.ckpt` にしてください）。\n",
    "4. 準備ができたら、下のセルだけを実行（▷ボタンを押す）してください。"
   ]
  },
  {
   "cell_type": "code",
   "execution_count": null,
   "metadata": {},
   "outputs": [],
   "source": [
    "# ▼▼▼ ここを編集してください ▼▼▼\n",
    "gdrive_url = \"ここにGoogleドライブの共有リンクを貼り付けてください\"\n",
    "output_filename = \"my_model.safetensors\"\n",
    "# ▲▲▲ ここまで ▲▲▲\n",
    "\n",
    "if \"drive.google.com\" in gdrive_url:\n",
    "    print(f\"Googleドライブから {output_filename} をダウンロードしています...\")\n",
    "    !gdown {gdrive_url} -O {TARGET_DIR}/{output_filename}\n",
    "    print(\"✅ ダウンロードが完了しました！\")\n",
    "else:\n",
    "    print(\"⚠️ 正しいGoogleドライブの共有リンクを貼り付けてください。\")"
   ]
  },
  {
   "cell_type": "code",
   "execution_count": null,
   "metadata": {},
   "outputs": [],
   "source": [
    "# Step-6： ComfyUIの起動\n",
    "!cd {COMFYUI_DIR} && python main.py --listen --port 8889 --disable-auto-launch"
   ]
  }
 ],
 "metadata": {
  "kernelspec": {
   "display_name": "Python 3",
   "language": "python",
   "name": "python3"
  },
  "language_info": {
   "codemirror_mode": {
    "name": "ipython",
    "version": 3
   },
   "file_extension": ".py",
   "mimetype": "text/x-python",
   "name": "python",
   "nbconvert_exporter": "python",
   "pygments_lexer": "ipython3",
   "version": "3.10.6"
  }
 },
 "nbformat": 4,
 "nbformat_minor": 4
}