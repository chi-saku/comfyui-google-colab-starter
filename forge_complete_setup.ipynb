{
  "nbformat": 4,
  "nbformat_minor": 0,
  "metadata": {
    "colab": {
      "provenance": [],
      "authorship_tag": "ABX9TyOcvW7kkwficXgR3W4oTWDP",
      "include_colab_link": true
    },
    "kernelspec": {
      "name": "python3",
      "display_name": "Python 3"
    },
    "language_info": {
      "name": "python"
    }
  },
  "cells": [
    {
      "cell_type": "markdown",
      "metadata": {
        "id": "view-in-github",
        "colab_type": "text"
      },
      "source": [
        "<a href=\"https://colab.research.google.com/github/chi-saku/comfyui-google-colab-starter/blob/main/forge_complete_setup.ipynb\" target=\"_parent\"><img src=\"https://colab.research.google.com/assets/colab-badge.svg\" alt=\"Open In Colab\"/></a>"
      ]
    },
    {
      "cell_type": "code",
      "source": [
        "#@title 🎨 Forge環境構築（ワンクリック版）\n",
        "#@markdown 📖 講座と同じForge環境を自動構築します。\n",
        "\n",
        "print(\"🚀 Forge環境構築を開始します...\")\n",
        "print(\"📖 講座で使用している環境と完全に同じものを構築中...\")\n",
        "\n",
        "from google.colab import drive\n",
        "import os, pathlib, shutil, subprocess\n",
        "\n",
        "print(\"\\n📁 Google Drive をマウント中...\")\n",
        "drive.mount('/content/drive')\n",
        "print(\"✅ Google Drive接続完了\")\n"
      ],
      "metadata": {
        "id": "S1aXz2sx73HW"
      },
      "execution_count": null,
      "outputs": []
    },
    {
      "cell_type": "code",
      "source": [
        "#@title 🔧 Forge本体のセットアップ\n",
        "print(\"🔧 Forge本体をセットアップ中...\")\n",
        "\n",
        "# フォルダのパスを定義\n",
        "forge_dir = pathlib.Path('/content/drive/MyDrive/AI/Forge')\n",
        "repo_dir = forge_dir / 'forge-webui'\n",
        "\n",
        "# 既存のForge本体を削除（クリーンインストール）\n",
        "if repo_dir.exists():\n",
        "    print(\"  🔄 古いForge本体をリセットします...\")\n",
        "    shutil.rmtree(repo_dir, ignore_errors=True)\n",
        "    print(\"  ✅ 古いForge本体の削除完了\")\n",
        "else:\n",
        "    print(\"  📦 Forge本体を新規インストールします...\")\n",
        "\n",
        "# 最新版のForgeをダウンロード\n",
        "print(\"  ⬇️ 最新のForgeをダウンロード中...\")\n",
        "try:\n",
        "    subprocess.run([\n",
        "        'git', 'clone', '--depth', '1',\n",
        "        'https://github.com/lllyasviel/stable-diffusion-webui-forge.git',\n",
        "        str(repo_dir)\n",
        "    ], check=True, capture_output=True, text=True)\n",
        "    print(\"  ✅ Forge本体のダウンロード完了\")\n",
        "except subprocess.CalledProcessError as e:\n",
        "    print(f\"  ❌ Forgeダウンロード失敗: {e}\")\n",
        "    print(\"  💡 ネットワーク接続を確認してリトライしてください\")\n",
        "    raise\n"
      ],
      "metadata": {
        "id": "X9nMjPDQ8C9z"
      },
      "execution_count": null,
      "outputs": []
    },
    {
      "cell_type": "code",
      "source": [
        "#@title 🔌 ControlNet拡張の自動インストール\n",
        "print(\"🔌 ControlNet拡張を自動インストール中...\")\n",
        "\n",
        "ext_dir = repo_dir / 'extensions'\n",
        "ext_dir.mkdir(parents=True, exist_ok=True)\n",
        "\n",
        "# ControlNet拡張をインストール\n",
        "controlnet_dir = ext_dir / 'sd-webui-controlnet'\n",
        "if not controlnet_dir.exists():\n",
        "    print(\"  📦 ControlNet拡張をインストール中...\")\n",
        "    try:\n",
        "        subprocess.run([\n",
        "            'git', 'clone', '--depth', '1',\n",
        "            'https://github.com/Mikubill/sd-webui-controlnet.git',\n",
        "            str(controlnet_dir)\n",
        "        ], check=True)\n",
        "        print(\"  ✅ ControlNet拡張インストール完了\")\n",
        "    except subprocess.CalledProcessError as e:\n",
        "        print(f\"  ❌ ControlNet拡張インストール失敗: {e}\")\n",
        "        raise\n",
        "else:\n",
        "    print(\"  ✅ ControlNet拡張は既に存在します\")\n"
      ],
      "metadata": {
        "id": "V3DNc8Fz8GAH"
      },
      "execution_count": null,
      "outputs": []
    },
    {
      "cell_type": "code",
      "source": [
        "#@title 🔗 モデル・出力フォルダの連携設定\n",
        "print(\"🔗 フォルダの連携を設定中...\")\n",
        "\n",
        "# リンクするフォルダの対応リスト\n",
        "link_defs = {\n",
        "    repo_dir / 'models' / 'Stable-diffusion': '/content/drive/MyDrive/AI/models/Stable-diffusion',\n",
        "    repo_dir / 'models' / 'VAE': '/content/drive/MyDrive/AI/models/VAE',\n",
        "    repo_dir / 'models' / 'Lora': '/content/drive/MyDrive/AI/models/Lora',\n",
        "    repo_dir / 'models' / 'ControlNet': '/content/drive/MyDrive/AI/models/ControlNet',\n",
        "    repo_dir / 'embeddings': '/content/drive/MyDrive/AI/models/embeddings',\n",
        "    repo_dir / 'extensions': '/content/drive/MyDrive/AI/Forge_Extensions',\n",
        "    repo_dir / 'outputs': '/content/drive/MyDrive/AI/Forge_Outputs',\n",
        "}\n",
        "\n",
        "for link_path, real_path_str in link_defs.items():\n",
        "    real_path = pathlib.Path(real_path_str)\n",
        "\n",
        "    # Google Drive側に実体フォルダを作成\n",
        "    real_path.mkdir(parents=True, exist_ok=True)\n",
        "\n",
        "    # 既存フォルダを削除してシンボリックリンクに置き換え\n",
        "    if link_path.exists():\n",
        "        print(f\"  🧹 既存の '{link_path.name}' を掃除中...\")\n",
        "        if link_path.is_symlink():\n",
        "            link_path.unlink()\n",
        "        else:\n",
        "            shutil.rmtree(link_path, ignore_errors=True)\n",
        "\n",
        "    # シンボリックリンクを作成\n",
        "    os.symlink(real_path, link_path, target_is_directory=True)\n",
        "    print(f\"  ✅ '{link_path.name}' の連携完了\")\n",
        "\n",
        "print('🎉 全てのフォルダ連携が完了しました！')\n"
      ],
      "metadata": {
        "id": "HmqSGq4h8IGH"
      },
      "execution_count": null,
      "outputs": []
    },
    {
      "cell_type": "code",
      "source": [
        "#@title 🎯 ControlNetモデルの自動ダウンロード\n",
        "download_controlnet = True #@param {type:\"boolean\"}\n",
        "\n",
        "if download_controlnet:\n",
        "    print(\"🎯 講座でよく使うControlNetモデルをダウンロード中...\")\n",
        "\n",
        "    controlnet_path = pathlib.Path('/content/drive/MyDrive/AI/models/ControlNet')\n",
        "\n",
        "    # 講座で使用する基本3種\n",
        "    models = {\n",
        "        \"control_v11p_sd15_canny.safetensors\": \"https://huggingface.co/lllyasviel/ControlNet-v1-1/resolve/main/control_v11p_sd15_canny.safetensors\",\n",
        "        \"control_v11p_sd15_openpose.safetensors\": \"https://huggingface.co/lllyasviel/ControlNet-v1-1/resolve/main/control_v11p_sd15_openpose.safetensors\",\n",
        "        \"control_v11f1p_sd15_depth.safetensors\": \"https://huggingface.co/lllyasviel/ControlNet-v1-1/resolve/main/control_v11f1p_sd15_depth.safetensors\"\n",
        "    }\n",
        "\n",
        "    for filename, url in models.items():\n",
        "        filepath = controlnet_path / filename\n",
        "        if not filepath.exists():\n",
        "            print(f\"  📥 {filename} をダウンロード中...\")\n",
        "            try:\n",
        "                subprocess.run(['wget', '-q', '-O', str(filepath), url], check=True)\n",
        "                print(f\"  ✅ {filename} ダウンロード完了\")\n",
        "            except subprocess.CalledProcessError:\n",
        "                print(f\"  ❌ {filename} ダウンロード失敗\")\n",
        "                print(f\"     手動ダウンロードURL: {url}\")\n",
        "        else:\n",
        "            print(f\"  ✅ {filename} は既存\")\n",
        "\n",
        "    print(\"🎯 ControlNetモデルの準備完了！\")\n",
        "else:\n",
        "    print(\"⏭️ ControlNetモデルのダウンロードをスキップしました\")\n"
      ],
      "metadata": {
        "id": "u30lwuA68JIv"
      },
      "execution_count": null,
      "outputs": []
    },
    {
      "cell_type": "code",
      "source": [
        "#@title 📋 環境情報の表示（トラブルシューティング用）\n",
        "import sys, torch\n",
        "\n",
        "print(\"📋 環境情報（問題があれば講師に送信してください）:\")\n",
        "print(f\"Python: {sys.version.split()[0]}\")\n",
        "print(f\"PyTorch: {torch.__version__}\")\n",
        "print(f\"CUDA Available: {torch.cuda.is_available()}\")\n",
        "\n",
        "if torch.cuda.is_available():\n",
        "    print(f\"GPU: {torch.cuda.get_device_name(0)}\")\n",
        "    print(f\"VRAM: {torch.cuda.get_device_properties(0).total_memory / 1024**3:.1f} GB\")\n",
        "else:\n",
        "    print(\"⚠️ GPUが利用できません\")\n",
        "\n",
        "# モデル確認\n",
        "models_dir = pathlib.Path('/content/drive/MyDrive/AI/models/Stable-diffusion')\n",
        "if models_dir.exists():\n",
        "    models = list(models_dir.glob('*.safetensors')) + list(models_dir.glob('*.ckpt'))\n",
        "    print(f\"利用可能なモデル数: {len(models)}\")\n",
        "    if models:\n",
        "        print(\"最初の3つ:\")\n",
        "        for model in models[:3]:\n",
        "            print(f\"  - {model.name}\")\n"
      ],
      "metadata": {
        "id": "eC4kj1Cz8M8K"
      },
      "execution_count": null,
      "outputs": []
    },
    {
      "cell_type": "code",
      "source": [
        "#@title 📋 環境情報の表示（トラブルシューティング用）\n",
        "import sys, torch\n",
        "\n",
        "print(\"📋 環境情報（問題があれば講師に送信してください）:\")\n",
        "print(f\"Python: {sys.version.split()[0]}\")\n",
        "print(f\"PyTorch: {torch.__version__}\")\n",
        "print(f\"CUDA Available: {torch.cuda.is_available()}\")\n",
        "\n",
        "if torch.cuda.is_available():\n",
        "    print(f\"GPU: {torch.cuda.get_device_name(0)}\")\n",
        "    print(f\"VRAM: {torch.cuda.get_device_properties(0).total_memory / 1024**3:.1f} GB\")\n",
        "else:\n",
        "    print(\"⚠️ GPUが利用できません\")\n",
        "\n",
        "# モデル確認\n",
        "models_dir = pathlib.Path('/content/drive/MyDrive/AI/models/Stable-diffusion')\n",
        "if models_dir.exists():\n",
        "    models = list(models_dir.glob('*.safetensors')) + list(models_dir.glob('*.ckpt'))\n",
        "    print(f\"利用可能なモデル数: {len(models)}\")\n",
        "    if models:\n",
        "        print(\"最初の3つ:\")\n",
        "        for model in models[:3]:\n",
        "            print(f\"  - {model.name}\")\n"
      ],
      "metadata": {
        "id": "Tq4U4SlC8OoW"
      },
      "execution_count": null,
      "outputs": []
    }
  ]
}